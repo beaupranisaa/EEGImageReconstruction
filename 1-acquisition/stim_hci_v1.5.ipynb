{
 "cells": [
  {
   "cell_type": "markdown",
   "metadata": {},
   "source": [
    "# HCI experiment \n",
    "Use this jupyter to generate the image stimuli matrix\n",
    "\n",
    "Goal :\n",
    "    \n",
    "\n",
    "Information:\n",
    "- EEG sampling = 125 Hz with 16 electrod nodes\n",
    "    \n",
    "    \n",
    "Requirements:\n",
    "\n",
    "1. Genterate represent number 0-9 with 500 number\n",
    "2. Divide it in to 25 blcok, 20 images per block\n",
    "3. Current trial should not same number with previous\n"
   ]
  },
  {
   "cell_type": "code",
   "execution_count": 1,
   "metadata": {},
   "outputs": [],
   "source": [
    "import random\n",
    "import pylsl\n",
    "import numpy as np\n",
    "import pandas as pd\n",
    "import time\n",
    "import itertools\n",
    "import math\n",
    "import psychopy \n",
    "from psychopy import visual, core, event\n",
    "from datetime import datetime\n",
    "from IPython.display import clear_output\n",
    "import random\n"
   ]
  },
  {
   "cell_type": "code",
   "execution_count": 2,
   "metadata": {},
   "outputs": [
    {
     "name": "stdout",
     "output_type": "stream",
     "text": [
      "Total experiment time = 54.00 Minute\n"
     ]
    }
   ],
   "source": [
    "#==============================================\n",
    "# experiment parameters\n",
    "#==============================================\n",
    "combination         = 6\n",
    "task                = 2\n",
    "classes             = combination * task\n",
    "num_trial_per_block = 5\n",
    "num_block           = 15\n",
    "num_trial           = num_trial_per_block * num_block\n",
    "total_data_point    = classes * num_trial \n",
    "\n",
    "stim_time           = (1, 2)\n",
    "stim_imagery        = 2\n",
    "stim_blink_time     = 0\n",
    "task_flixation_time = (0.8, 1.2)\n",
    "trial_flixation_time= 2\n",
    "block_fixation_time = 10  # inter trial interval, i.e., how long the fixation will stay in second\n",
    "\n",
    "\n",
    "experiment_time  = ( trial_flixation_time + stim_time[-1] + stim_imagery + task_flixation_time[-1] ) * combination * num_trial\n",
    "print(f\"Total experiment time = {'{:.2f}'.format(experiment_time/60)} Minute\" )\n",
    "      \n",
    "    \n",
    "#==============================================\n",
    "# Configuration \n",
    "#==============================================\n",
    "image_folder='./stimulus/large'\n",
    "\n",
    "\n",
    "#name, type, channel_count, sampling rate, channel format, source_id\n",
    "#info = StreamInfo('CytonMarkers', 'Markers', 1, 0.0, 'int32', 'CytonMarkerID')#make an outlet\n",
    "info = pylsl.StreamInfo('CytonMarkers', 'Markers', 1, 0.0, 'string', 'CytonMarkerID')#make an outlet\n",
    "outlet = pylsl.StreamOutlet(info)\n",
    "# %whos"
   ]
  },
  {
   "cell_type": "code",
   "execution_count": 3,
   "metadata": {},
   "outputs": [],
   "source": [
    "stims = {\n",
    "    '1': [1, 2, 3, 4, 5, 6],\n",
    "    '2': [4, 1, 5, 2 ,6 ,3],\n",
    "    '3': [5, 3, 1, 6, 4, 2],\n",
    "    '4': [2, 4, 6, 1, 3, 5],\n",
    "    '5': [3, 6, 2, 5, 1, 4],\n",
    "    '6': [6, 5, 4 ,3, 2, 1],\n",
    "}"
   ]
  },
  {
   "cell_type": "markdown",
   "metadata": {},
   "source": [
    "## Experiment section"
   ]
  },
  {
   "cell_type": "code",
   "execution_count": 4,
   "metadata": {},
   "outputs": [],
   "source": [
    "def drawTextOnScreen(massage) :\n",
    "    message = visual.TextStim( mywin, text=massage, languageStyle='LTR')\n",
    "    message.contrast =  0.3\n",
    "    message.height= 0.07\n",
    "    message.draw() # draw on screen\n",
    "    mywin.flip()   # refresh to show what we have draw\n",
    "\n",
    "def drawTrial( fileName, stimTime ) :\n",
    "    drawTextOnScreen('') \n",
    "    core.wait(stim_blink_time)\n",
    "    if fileName == 'imagery':\n",
    "        img = blank\n",
    "    else:\n",
    "        img = all_img[fileName-1]\n",
    "    img.draw()\n",
    "    mywin.flip()\n",
    "    eegMarking(fileName, \"img_stim\" )\n",
    "    core.wait(stimTime)\n",
    "    \n",
    "def drawFixation(fileName, fixationTime):\n",
    "    fixation = visual.ShapeStim(mywin,\n",
    "                                vertices=((0, -0.5), (0, 0.5), (0,0), (-0.5,0), (0.5, 0)),\n",
    "                                lineWidth=5,\n",
    "                                closeShape=False,\n",
    "                                lineColor=\"white\"\n",
    "            )\n",
    "    fixation.draw()\n",
    "    if not(isTrianing) and fileName == 'trial break':\n",
    "        text = f\"Block {block+1} / {num_block}\"\n",
    "        message = visual.TextStim( mywin, text=text, languageStyle='LTR' )\n",
    "        message.contrast =  0.3\n",
    "        message.pos = (0, -0.6)\n",
    "        message.draw() # draw on screen\n",
    "        \n",
    "    mywin.flip()   # refresh to show what we have draw\n",
    "    eegMarking(fileName, \"fixation\" )\n",
    "    core.wait(fixationTime)\n",
    "    drawTextOnScreen('')\n",
    "     \n",
    "def eegMarking(img, stampType):   # use trial variable from main\n",
    "    if not isTrianing :\n",
    "        if stampType == \"img_stim\" :\n",
    "            markerString = str(block+1) + \",\" + str(trial) + \",\"  + str(img) + \",\" + str(timer)\n",
    "        elif stampType == \"fixation\" :\n",
    "            markerString = str(block+1) + \",\" +str(img) + \",\" + str(\"Fixation\")\n",
    "    else:\n",
    "        markerString = 'Training'\n",
    "    markerString= str(markerString)                              \n",
    "    print(\"Marker string {}\".format(markerString))\n",
    "    outlet.push_sample([markerString])"
   ]
  },
  {
   "cell_type": "markdown",
   "metadata": {},
   "source": [
    "### Stimulies"
   ]
  },
  {
   "cell_type": "code",
   "execution_count": 5,
   "metadata": {},
   "outputs": [
    {
     "name": "stdin",
     "output_type": "stream",
     "text": [
      " 4\n"
     ]
    }
   ],
   "source": [
    "trial_idx = input()"
   ]
  },
  {
   "cell_type": "code",
   "execution_count": 6,
   "metadata": {},
   "outputs": [
    {
     "name": "stdout",
     "output_type": "stream",
     "text": [
      "Marker string 15,trial break,Fixation\n",
      "Marker string 15,4,5,2\n",
      "Marker string 15,task break,Fixation\n",
      "Marker string 15,4,imagery,2\n",
      "Total experiment time = 48.668654970328014 \n",
      "8.1859 \tWARNING \tMonitor specification not found. Creating a temporary one...\n",
      "8.1957 \tWARNING \tUser requested fullscreen with size [1366  768], but screen is actually [1920, 1080]. Using actual size\n"
     ]
    },
    {
     "ename": "SystemExit",
     "evalue": "0",
     "output_type": "error",
     "traceback": [
      "An exception has occurred, use %tb to see the full traceback.\n",
      "\u001b[0;31mSystemExit\u001b[0m\u001b[0;31m:\u001b[0m 0\n"
     ]
    },
    {
     "name": "stderr",
     "output_type": "stream",
     "text": [
      "/Users/MJ/opt/anaconda3/lib/python3.8/site-packages/IPython/core/interactiveshell.py:3426: UserWarning: To exit: use 'exit', 'quit', or Ctrl-D.\n",
      "  warn(\"To exit: use 'exit', 'quit', or Ctrl-D.\", stacklevel=1)\n"
     ]
    }
   ],
   "source": [
    "wait = 0.5\n",
    "    \n",
    "mywin = visual.Window([1366, 768], color='black', fullscr=True, screen=1, units='norm')     # set the screen and full screen mode\n",
    "# mywin = visual.Window([640, 360], color='black', fullscr=False, screen=0, units='norm')     # set the screen and full screen mode\n",
    "# mywin = visual.Window([1920, 1080], color=\"black\", units='norm')    # set the screen and full screen mode\n",
    "\n",
    "drawTextOnScreen('Loading...')\n",
    "\n",
    "#Load stimuli to RAM\n",
    "usefilefname = ['1', '2', '3', '4', '5', '6', 'black']\n",
    "all_img = []\n",
    "for im in usefilefname:\n",
    "    imgPath=image_folder+\"/\"+str(im)+\".png\"\n",
    "    stim = visual.ImageStim( mywin,  image=imgPath )\n",
    "    stim.size *= .7\n",
    "    if im == 'black':\n",
    "        blank = stim\n",
    "    else:\n",
    "        all_img.append(stim)\n",
    "\n",
    "##############\n",
    "####  Training session\n",
    "while True:\n",
    "    isTrianing = True\n",
    "    drawTextOnScreen('Training session\\nPlease wait\\nPress space bar to start')\n",
    "    keys = event.getKeys()\n",
    "    if 'space' in keys:      # If space has been pushed\n",
    "        start = time.time()\n",
    "        drawTextOnScreen('') \n",
    "\n",
    "        trial = 1\n",
    "        for img in stims[str(np.random.randint(1,6))]:\n",
    "            drawTextOnScreen(f'Trial {trial}/5')\n",
    "            core.wait(wait)\n",
    "            clear_output(wait=True)\n",
    "            timer = random.choice(stim_time)\n",
    "            drawFixation('trial break', trial_flixation_time-wait)\n",
    "            drawTrial(img, timer)   # drawTrail(fileName, stimTime, thinkingTime, fixationTime)\n",
    "            drawFixation('task break', np.random.uniform(task_flixation_time[0], task_flixation_time[1]))\n",
    "            drawTrial('imagery', timer)\n",
    "\n",
    "            if trial == 5 :\n",
    "                break\n",
    "            trial += 1\n",
    "\n",
    "        drawTextOnScreen('End of training session')\n",
    "        core.wait(1)\n",
    "        drawTextOnScreen('You can ask some question to instructor.\\nNo? : space bar')\n",
    "        _ = event.waitKeys()\n",
    "        isTrianing = False\n",
    "        break\n",
    "\n",
    "################\n",
    "####### Experiment session\n",
    "play = True\n",
    "while play:\n",
    "    drawTextOnScreen('Experiment session : Press space bar to start')\n",
    "    keys = event.getKeys()\n",
    "    if 'space' in keys:      # If space has been pushed\n",
    "        drawTextOnScreen('Ready')\n",
    "        core.wait(3)\n",
    "        start = time.time()\n",
    "        drawTextOnScreen('') \n",
    "\n",
    "        for block in range(num_block) :\n",
    "            \n",
    "            if block != 0:\n",
    "                drawTextOnScreen('RELAX TIME\\n*Do not remove your head set\\nPress space bar to continue')\n",
    "                _ = event.waitKeys()\n",
    "                \n",
    "            for trial in range(num_trial_per_block):\n",
    "                for img in stims[str(trial_idx)]:\n",
    "                    drawTextOnScreen(f'Trial {trial+1}/{num_trial_per_block}')\n",
    "                    core.wait(wait)\n",
    "                    clear_output(wait=True)\n",
    "                    timer = random.choice(stim_time)\n",
    "                    drawFixation('trial break', trial_flixation_time-wait)\n",
    "                    drawTrial(img, timer)   # drawTrail(fileName, stimTime, thinkingTime, fixationTime)\n",
    "                    drawFixation('task break', np.random.uniform(task_flixation_time[0], task_flixation_time[1]))\n",
    "                    drawTrial('imagery', timer)\n",
    "\n",
    "#             if block != num_block:  # do not draw fixation on last block\n",
    "#                 drawTextOnScreen(f'BLOCK REST\\n {block_fixation_time} sec.')\n",
    "#                 core.wait(block_fixation_time)\n",
    "\n",
    "        drawTextOnScreen('End of experiment, Thank you')\n",
    "        stop  = time.time()\n",
    "        print(f\"Total experiment time = {(stop-start)/60} \")\n",
    "        core.wait(10)\n",
    "        play = False\n",
    "\n",
    "mywin.close()\n",
    "core.quit()"
   ]
  }
 ],
 "metadata": {
  "kernelspec": {
   "display_name": "Python 3",
   "language": "python",
   "name": "python3"
  },
  "language_info": {
   "codemirror_mode": {
    "name": "ipython",
    "version": 3
   },
   "file_extension": ".py",
   "mimetype": "text/x-python",
   "name": "python",
   "nbconvert_exporter": "python",
   "pygments_lexer": "ipython3",
   "version": "3.8.3"
  }
 },
 "nbformat": 4,
 "nbformat_minor": 4
}
